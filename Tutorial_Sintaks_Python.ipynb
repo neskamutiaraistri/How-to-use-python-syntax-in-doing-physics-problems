{
  "nbformat": 4,
  "nbformat_minor": 0,
  "metadata": {
    "colab": {
      "provenance": [],
      "collapsed_sections": []
    },
    "kernelspec": {
      "name": "python3",
      "display_name": "Python 3"
    },
    "language_info": {
      "name": "python"
    }
  },
  "cells": [
    {
      "cell_type": "code",
      "execution_count": 1,
      "metadata": {
        "id": "WrKo2UhOJzBj",
        "colab": {
          "base_uri": "https://localhost:8080/"
        },
        "outputId": "525594a6-38b9-44eb-ee88-3a7c7d6a3faf"
      },
      "outputs": [
        {
          "output_type": "stream",
          "name": "stdout",
          "text": [
            "11\n",
            "hasil m + m =  22\n",
            "hasil m x m =  121\n",
            "-----------------------------------------------------------------------\n",
            "is not weird that you gotta learn about everyone else but yourself? Maybe its time that we do love our selve just little bit, yeah?\n",
            "is not weird that you gotta learn about everyone \n",
            " that you gotta learn about everyone \n",
            "['Maybe', 'its', 'time', 'that', 'we', 'do', 'love', 'our', 'selve', 'just', 'little', 'bit,', 'yeah?']\n"
          ]
        }
      ],
      "source": [
        "#cara menampilkan hasil\n",
        "\n",
        "m = 11\n",
        "print(m)\n",
        "print(\"hasil m + m = \", m+m) #menampilkan kata sebelum hasil, menampilkan hasil penjumlahan\n",
        "print(\"hasil m x m = \", m*m) #menampilkan hasil perkalian, logikanya (*)\n",
        "\n",
        "print('-----------------------------------------------------------------------')\n",
        "#menampilkan karakter\n",
        "Karakter1 = 'is not weird that you gotta learn about everyone else but yourself?'\n",
        "Karakter2 = 'Maybe its time that we do love our selve just little bit, yeah?'\n",
        "#menampilkan dua karakter sekaligus\n",
        "print(Karakter1+' '+Karakter2)\n",
        "\n",
        "#menampilkan hanya beberapa kata saja dalam satu karakter\n",
        "print(Karakter1[0:49]) #menampilkan hanya 9 huruf\n",
        "print(Karakter1[12:49]) #menampilkan dari huruf ke 11\n",
        "\n",
        "#untuk mensplit karakter\n",
        "Karakter = 'Maybe its time that we do love our selve just little bit, yeah?'\n",
        "print(Karakter.split()) #memisahkan setiap kata dalam kalimat Karakter\n",
        "\n"
      ]
    },
    {
      "cell_type": "code",
      "source": [
        "from numpy import pi, sqrt\n",
        "#operasi perhitungan sederhana\n",
        "a = 10\n",
        "b = -4.5\n",
        "c = 5.0\n",
        "d = 5/2\n",
        "\n",
        "print(a+b) #operasi penjumlahan 10 + (-4.5)\n",
        "print(\"bentuk bilangan integer = \", int(b)) #bentuk integer dari 4.5 (menghilangkan angka di belakang koma)\n",
        "print(\"bentuk bilangan float = \", float(a)) #bentuk float dari 10 (menambahkan angka di belakang koma)\n",
        "print(\"perkalian c x d = \", c*d) #operasi perkalian 5.0 x 5/2\n",
        "\n",
        "print('-----------------------------------------------------------------------')\n",
        "#contoh soal fisika 1\n",
        "print(\"contoh soal 1 = tentukan kecepatan v (W (usaha) = 20; s (jarak) = -10; t (waktu) = 2)\")\n",
        "w = 20\n",
        "s = -10\n",
        "t = 2\n",
        "#rumus kecepatan : v = s/t\n",
        "Kecepatan = s/t\n",
        "print(Kecepatan, \" m/s\") #untuk menampilkan hasil nilai kecepatan\n",
        "\n",
        "print('-----------------------------------------------------------------------')\n",
        "#contoh soal fisika 2\n",
        "print(\"contoh soal 2 = tentukan energi dalam J dari m = 9.31x10^-31; c = 3x10^8\")\n",
        "m = 9.31*10**-31 #(*) adalah untuk perkalian; (**) untuk pangkat\n",
        "c = 3*10**8\n",
        "#rumus energi :  E = m x c^2\n",
        "E = m * c**2\n",
        "print(E)\n",
        "\n",
        "print('-----------------------------------------------------------------------')\n",
        "#contoh soal fisika 3\n",
        "print(\"contoh soal 3 = tentukan periode dalam s (l = 0.5 m; 9 = 9.8 m/s^2\")\n",
        "l = 0.5\n",
        "g = 9.8\n",
        "#rumus periode : 2 x pi x sqrt (l/g)\n",
        "Periode = 2*pi*sqrt(l/g)\n",
        "print(Periode)"
      ],
      "metadata": {
        "id": "gaS801C2PO2n",
        "colab": {
          "base_uri": "https://localhost:8080/"
        },
        "outputId": "d2d2cc3f-13aa-4cac-97ae-1d574951626c"
      },
      "execution_count": 2,
      "outputs": [
        {
          "output_type": "stream",
          "name": "stdout",
          "text": [
            "5.5\n",
            "bentuk bilangan integer =  -4\n",
            "bentuk bilangan float =  10.0\n",
            "perkalian c x d =  12.5\n",
            "-----------------------------------------------------------------------\n",
            "contoh soal 1 = tentukan kecepatan v (W (usaha) = 20; s (jarak) = -10; t (waktu) = 2)\n",
            "-5.0  m/s\n",
            "-----------------------------------------------------------------------\n",
            "contoh soal 2 = tentukan energi dalam J dari m = 9.31x10^-31; c = 3x10^8\n",
            "8.379e-14\n",
            "-----------------------------------------------------------------------\n",
            "contoh soal 3 = tentukan periode dalam s (l = 0.5 m; 9 = 9.8 m/s^2\n",
            "1.4192268951137286\n"
          ]
        }
      ]
    },
    {
      "cell_type": "code",
      "source": [
        "from numpy import *\n",
        "#menampilkam matrik\n",
        "M = [[0, 1, 1, 0] , [2, 3, 2, 1]]\n",
        "print(M)\n",
        "\n",
        "#menampilkan matrik 3x3\n",
        "a = zeros ((3,3),int)\n",
        "print(a)\n",
        "print(\" \")\n",
        "\n",
        "a[0] = [1, 4, 2] #untuk mengisi baris pertama\n",
        "a[1,1] = 9 #untuk mengisi baris kedua, kolom kedua\n",
        "a[2,0:2] = [9,9] #untuk mengisika dua angka di baris ketiga \n",
        "print(a)\n",
        "\n",
        "#menampilkan matrik menggunakan array\n",
        "print(' ')\n",
        "from numpy import array\n",
        "N = array([[2, 3, 4] , [2, 3, 6]])\n",
        "print (N)"
      ],
      "metadata": {
        "id": "eCffcwTRYUqh",
        "colab": {
          "base_uri": "https://localhost:8080/"
        },
        "outputId": "e1f6789d-ac37-47fd-aa5a-e5ccd7f504a7"
      },
      "execution_count": 3,
      "outputs": [
        {
          "output_type": "stream",
          "name": "stdout",
          "text": [
            "[[0, 1, 1, 0], [2, 3, 2, 1]]\n",
            "[[0 0 0]\n",
            " [0 0 0]\n",
            " [0 0 0]]\n",
            " \n",
            "[[1 4 2]\n",
            " [0 9 0]\n",
            " [9 9 0]]\n",
            " \n",
            "[[2 3 4]\n",
            " [2 3 6]]\n"
          ]
        }
      ]
    },
    {
      "cell_type": "code",
      "source": [
        "#memplot grafik\n",
        "import matplotlib.pyplot as plt\n",
        "from numpy import arange, sin, cos\n",
        "\n",
        "#menentukan titik awal\n",
        "x = arange(0.0, 6.0, 0.1)\n",
        "plt.plot(x,sin(x), 'o-', x,cos(x), 's-') #menampilkan grafik sin dan cos\n",
        "plt.title('grafik sinusoidal') #nama grafiknya\n",
        "plt.xlabel('x') #memberi label\n",
        "plt.ylabel('y') #memberi label\n",
        "plt.legend(('sinus','cosinus'), loc = 0) #memberi keterangan garisnya\n",
        "plt.grid(True) #memberi batas\n",
        "plt.show() #menampilkan grafik"
      ],
      "metadata": {
        "id": "j6hWi2_mb7IF",
        "colab": {
          "base_uri": "https://localhost:8080/",
          "height": 295
        },
        "outputId": "1e6d3a19-80ef-4af0-aada-56595492bde8"
      },
      "execution_count": 4,
      "outputs": [
        {
          "output_type": "display_data",
          "data": {
            "text/plain": [
              "<Figure size 432x288 with 1 Axes>"
            ],
            "image/png": "[encoded data removed]"
          },
          "metadata": {
            "needs_background": "light"
          }
        }
      ]
    }
  ]
}