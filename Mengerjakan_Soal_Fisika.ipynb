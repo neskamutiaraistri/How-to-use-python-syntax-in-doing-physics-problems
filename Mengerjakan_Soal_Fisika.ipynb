{
  "nbformat": 4,
  "nbformat_minor": 0,
  "metadata": {
    "colab": {
      "provenance": [],
      "collapsed_sections": []
    },
    "kernelspec": {
      "name": "python3",
      "display_name": "Python 3"
    },
    "language_info": {
      "name": "python"
    }
  },
  "cells": [
    {
      "cell_type": "code",
      "source": [
        "#Tugas soal 1\n",
        "print(\"Soal 1:\")\n",
        "print(\"Gunakan operasi pehitungan fisika matematika untuk menghitung jarak fokus lensa (f) dalam cm pada persamaan pembuat lensa 1/f = (n-1)[1/R1 + 1/R2]\")\n",
        "print(\"dengan n adalah indeks bias medium = 1.50 dan R1 dan R2 adalah jejari kelengkungan permukaan masing-masing 20 cm dan 18 cm.\")\n",
        "\n",
        "#Penyelesaian\n",
        "print(\"Penyelesaian:\")\n",
        "#Diketahui\n",
        "print('Rumus Jarak fokus lensa : 1/f = (n-1)[1/R1 + 1/R2]')\n",
        "n = 1.50 #Indeks bias medium\n",
        "R1 = 20 #Jari kelengkungan permukaan\n",
        "R2 = 18 #Jari kelengkungan permukaan\n",
        "\n",
        "f = (n-1)*((1/R1)+(1/R2)) \n",
        "f = 1/f\n",
        "\n",
        "print('-----------------------------------------------------------------------')\n",
        "print(\"Jarak fokus lensa = \", f)\n",
        "print(' ')"
      ],
      "metadata": {
        "id": "Q9JKIW5-lRN2",
        "colab": {
          "base_uri": "https://localhost:8080/"
        },
        "outputId": "6eeb10b3-03ba-431a-a5ec-bcfd023d83d9"
      },
      "execution_count": 2,
      "outputs": [
        {
          "output_type": "stream",
          "name": "stdout",
          "text": [
            "Soal 1:\n",
            "Gunakan operasi pehitungan fisika matematika untuk menghitung jarak fokus lensa (f) dalam cm pada persamaan pembuat lensa 1/f = (n-1)[1/R1 + 1/R2]\n",
            "dengan n adalah indeks bias medium = 1.50 dan R1 dan R2 adalah jejari kelengkungan permukaan masing-masing 20 cm dan 18 cm.\n",
            "Penyelesaian:\n",
            "Rumus Jarak fokus lensa : 1/f = (n-1)[1/R1 + 1/R2]\n",
            "-----------------------------------------------------------------------\n",
            "Jarak fokus lensa =  18.94736842105263\n",
            " \n"
          ]
        }
      ]
    },
    {
      "cell_type": "code",
      "source": [
        "#Tugas soal 2\n",
        "import numpy as np\n",
        "import matplotlib.pyplot as plt\n",
        "print(\"Soal 2:\")\n",
        "print(\"Perhitungan jarak horizontal atau vertikal pada gerak parabola\")\n",
        "print(\"x = V0^2sin2(alpha)/2g (bekerja di command window)\")\n",
        "\n",
        "#Penyelesaian\n",
        "print(\"Penyelesaian:\")\n",
        "#Diketahui\n",
        "alpha = np.radians(45)\n",
        "g = 9.8 #Percepatan gravitasi (m/s^2)\n",
        "V0 = 10 #Kecepatan awal (m/s)\n",
        "\n",
        "V0x = V0*np.cos(alpha) #Kecepatan awal pada sumbu-x (m/s)\n",
        "V0y = V0*np.sin(alpha) #Kecepatan awal pada sumbu-y (m/s)\n",
        "\n",
        "X = ((V0**2)*np.sin(2*alpha))/(g) #h terjauh\n",
        "print(\"Jarak horizontal maksimum = \",X,\" m\")\n",
        "Y = ((V0**2)*(np.sin(alpha)**2))/(2*g) #h maksimum\n",
        "print(\"Jarak vertikal maksimum = \",Y,\" m\")\n",
        "T = (2*V0*np.sin(alpha))/g #t terjauh\n",
        "print(\"Waktu mencapai jarak horizontal maksimum = \",T,\" s\")\n",
        "print(\"\\n\")\n",
        "\n",
        "t = np.arange(0.0, T, 0.01)\n",
        "y = V0y*t - 0.5*g*t**2\n",
        "x = V0x*t\n",
        "\n",
        "plt.plot(x, y) #menampilkan grafik sin dan cos\n",
        "plt.title('Grafik gerak parabola') #nama grafiknya\n",
        "plt.xlabel('x (m)') #memberi label\n",
        "plt.ylabel('y (m)') #memberi label\n",
        "plt.grid(True) #memberi batas\n",
        "plt.show() #menampilkan grafik"
      ],
      "metadata": {
        "colab": {
          "base_uri": "https://localhost:8080/",
          "height": 451
        },
        "id": "9kCxjkA3qgGz",
        "outputId": "e8f00043-855e-4959-ce36-c8fa3ce48bc0"
      },
      "execution_count": 3,
      "outputs": [
        {
          "output_type": "stream",
          "name": "stdout",
          "text": [
            "Soal 2:\n",
            "Perhitungan jarak horizontal atau vertikal pada gerak parabola\n",
            "x = V0^2sin2(alpha)/2g (bekerja di command window)\n",
            "Penyelesaian:\n",
            "Jarak horizontal maksimum =  10.204081632653061  m\n",
            "Jarak vertikal maksimum =  2.5510204081632644  m\n",
            "Waktu mencapai jarak horizontal maksimum =  1.4430750636460152  s\n",
            "\n",
            "\n"
          ]
        },
        {
          "output_type": "display_data",
          "data": {
            "text/plain": [
              "<Figure size 432x288 with 1 Axes>"
            ],
            "image/png": "[encoded data removed]"
          },
          "metadata": {
            "needs_background": "light"
          }
        }
      ]
    }
  ]
}